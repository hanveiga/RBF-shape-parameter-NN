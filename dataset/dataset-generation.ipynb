{
 "cells": [
  {
   "cell_type": "markdown",
   "id": "939c0584-71f8-433a-97c0-80c4c92068c7",
   "metadata": {},
   "source": [
    "# Dataset Generation"
   ]
  },
  {
   "cell_type": "code",
   "execution_count": 1,
   "id": "6e4d4127-caba-4a97-9c8f-71672a766bc4",
   "metadata": {},
   "outputs": [],
   "source": [
    "import numpy as np\n",
    "import os\n",
    "import matplotlib.pyplot as plt\n",
    "import numpy as np\n",
    "import pickle\n",
    "import math\n",
    "import shutil\n",
    "from datetime import datetime\n",
    "from math import exp\n",
    "from random import seed\n",
    "from random import random\n",
    "from scipy.spatial import distance\n",
    "\n",
    "import sys\n",
    "sys.path.append('../common/')\n",
    "\n",
    "from rbf_tools import *\n",
    "from optimisation import *\n",
    "from one_dim import *\n",
    "from two_dim import *\n",
    "from final import calculate_shape\n"
   ]
  },
  {
   "cell_type": "code",
   "execution_count": 5,
   "id": "85350a79-0e8e-4157-8732-b8e382311876",
   "metadata": {},
   "outputs": [],
   "source": [
    "def generate_dataset(data_per_sample, ratio_of_points, n_dim, lrs, bs, u_exacts, N, n=10):\n",
    "    p_ref=np.zeros(n_dim)\n",
    "    nunsuccessful = 0\n",
    "    dataset = []\n",
    "    a = 0 # lower limit of hypercube\n",
    "    for lr_init, b in zip(lrs,bs):\n",
    "        for u_exact in u_exacts:\n",
    "                print(f\"Dimension: {n_dim}\")\n",
    "                for i in range(data_per_sample):\n",
    "                    x_axis = sample_from_hypercube(n_dim,low=a, high=b, n=N)\n",
    "                    x_axis = sorted( x_axis, key = lambda x: np.linalg.norm(x - p_ref ) )\n",
    "                    x_axis = np.reshape(x_axis, (N,n_dim)) \n",
    "    \n",
    "                    #number_points= x_axis.shape[0]\n",
    "    \n",
    "                    distance = get_distance_matrix(x_axis)\n",
    "                    \n",
    "                    closest = np.argsort(distance, axis=1)\n",
    "                    index_tot=[]\n",
    "                    for i in range(ratio_of_points):\n",
    "                        x_local=np.zeros((n,2))\n",
    "                        for j in range(n):\n",
    "                            x_local[j]=x_axis[closest[i][j]]\n",
    "                            index_sorted=sorted(closest[i][:n])\n",
    "                        if index_sorted not in index_tot:\n",
    "                            index_tot.append(index_sorted)\n",
    "                            if n_dim==1:\n",
    "                                x_local[:,1]=0\n",
    "                            \n",
    "                            eps_init = initial_guess(x_local)\n",
    "                            L =  get_int_matrix(x_local,eps_init)\n",
    "                            cond_init = np.linalg.cond(L,'fro')\n",
    "                            eps_final,nunsuccessful=calculate_shape(x_local,lr_init)\n",
    "    \n",
    "                            if nunsuccessful==0:\n",
    "                                L =  get_int_matrix(x_local,eps_final)\n",
    "                                cond = np.linalg.cond(L,'fro')\n",
    "                                print('sucess')\n",
    "                                X_data=x_local.flatten()\n",
    "                                dataset.append([X_data, eps_final])\n",
    "    \n",
    "    return dataset"
   ]
  },
  {
   "cell_type": "code",
   "execution_count": 3,
   "id": "73b50979-c30e-48f4-a7a4-f912d0b35f41",
   "metadata": {},
   "outputs": [
    {
     "name": "stdout",
     "output_type": "stream",
     "text": [
      "Dimension: 1\n",
      "update size: 0.16999605248826957\n",
      "loss size: 6.80851922331485\n",
      "update size: 0.04078425166236765\n",
      "loss size: 5.661252350549979\n",
      "sucess\n",
      "update size: 0.007771516388643831\n",
      "loss size: 6.058567684851713\n",
      "update size: 0.010091414667913303\n",
      "loss size: 5.934145421096332\n",
      "update size: 0.0438492215332068\n",
      "loss size: 4.521844623411539\n",
      "sucess\n",
      "update size: 0.006698415748078081\n",
      "loss size: 5.816067988477744\n",
      "sucess\n"
     ]
    },
    {
     "ename": "KeyboardInterrupt",
     "evalue": "",
     "output_type": "error",
     "traceback": [
      "\u001b[0;31m---------------------------------------------------------------------------\u001b[0m",
      "\u001b[0;31mKeyboardInterrupt\u001b[0m                         Traceback (most recent call last)",
      "Cell \u001b[0;32mIn[3], line 11\u001b[0m\n\u001b[1;32m      9\u001b[0m freq \u001b[38;5;241m=\u001b[39m \u001b[38;5;241m2\u001b[39m\u001b[38;5;241m/\u001b[39m\u001b[38;5;241m0.1\u001b[39m\n\u001b[1;32m     10\u001b[0m u_exacts \u001b[38;5;241m=\u001b[39m [\u001b[38;5;28;01mlambda\u001b[39;00m x: np\u001b[38;5;241m.\u001b[39mexp(np\u001b[38;5;241m.\u001b[39msin(np\u001b[38;5;241m.\u001b[39mpi\u001b[38;5;241m*\u001b[39mx)), \u001b[38;5;28;01mlambda\u001b[39;00m x: \u001b[38;5;241m1\u001b[39m\u001b[38;5;241m/\u001b[39m(\u001b[38;5;241m1\u001b[39m\u001b[38;5;241m+\u001b[39m\u001b[38;5;241m16\u001b[39m\u001b[38;5;241m*\u001b[39m(x\u001b[38;5;241m*\u001b[39m\u001b[38;5;241m*\u001b[39m\u001b[38;5;241m2\u001b[39m)), \u001b[38;5;28;01mlambda\u001b[39;00m x: np\u001b[38;5;241m.\u001b[39mcos(freq\u001b[38;5;241m*\u001b[39mnp\u001b[38;5;241m.\u001b[39mpi\u001b[38;5;241m*\u001b[39mx) ]\n\u001b[0;32m---> 11\u001b[0m dataset \u001b[38;5;241m=\u001b[39m \u001b[43mgenerate_dataset\u001b[49m\u001b[43m(\u001b[49m\u001b[43mdata_per_sample\u001b[49m\u001b[43m,\u001b[49m\u001b[43mratio_of_points\u001b[49m\u001b[43m,\u001b[49m\u001b[43mn_dim\u001b[49m\u001b[43m,\u001b[49m\u001b[43mlrs\u001b[49m\u001b[43m,\u001b[49m\u001b[43mbs\u001b[49m\u001b[43m,\u001b[49m\u001b[43mu_exacts\u001b[49m\u001b[43m,\u001b[49m\u001b[43mN\u001b[49m\u001b[43m,\u001b[49m\u001b[43mn\u001b[49m\u001b[38;5;241;43m=\u001b[39;49m\u001b[43mn\u001b[49m\u001b[43m)\u001b[49m\n\u001b[1;32m     12\u001b[0m pickle\u001b[38;5;241m.\u001b[39mdump(dataset, \u001b[38;5;28mopen\u001b[39m(\u001b[38;5;124m\"\u001b[39m\u001b[38;5;124msort_1d_11_11.5_10.pkl\u001b[39m\u001b[38;5;124m\"\u001b[39m,\u001b[38;5;124m'\u001b[39m\u001b[38;5;124mwb\u001b[39m\u001b[38;5;124m'\u001b[39m))\n\u001b[1;32m     13\u001b[0m \u001b[38;5;28mprint\u001b[39m(dataset)\n",
      "Cell \u001b[0;32mIn[2], line 33\u001b[0m, in \u001b[0;36mgenerate_dataset\u001b[0;34m(data_per_sample, ratio_of_points, n_dim, lrs, bs, u_exacts, N, n)\u001b[0m\n\u001b[1;32m     31\u001b[0m L \u001b[38;5;241m=\u001b[39m  get_int_matrix(x_local,eps_init)\n\u001b[1;32m     32\u001b[0m cond_init \u001b[38;5;241m=\u001b[39m np\u001b[38;5;241m.\u001b[39mlinalg\u001b[38;5;241m.\u001b[39mcond(L,\u001b[38;5;124m'\u001b[39m\u001b[38;5;124mfro\u001b[39m\u001b[38;5;124m'\u001b[39m)\n\u001b[0;32m---> 33\u001b[0m eps_final,nunsuccessful\u001b[38;5;241m=\u001b[39m\u001b[43mcalculate_shape\u001b[49m\u001b[43m(\u001b[49m\u001b[43mx_local\u001b[49m\u001b[43m,\u001b[49m\u001b[43mlr_init\u001b[49m\u001b[43m)\u001b[49m\n\u001b[1;32m     35\u001b[0m \u001b[38;5;28;01mif\u001b[39;00m nunsuccessful\u001b[38;5;241m==\u001b[39m\u001b[38;5;241m0\u001b[39m:\n\u001b[1;32m     36\u001b[0m     L \u001b[38;5;241m=\u001b[39m  get_int_matrix(x_local,eps_final)\n",
      "File \u001b[0;32m~/RBF-shape-parameter-NN/dataset/../common/final.py:25\u001b[0m, in \u001b[0;36mcalculate_shape\u001b[0;34m(x_axis, lr_init)\u001b[0m\n\u001b[1;32m     23\u001b[0m nunsuccessful \u001b[38;5;241m=\u001b[39m \u001b[38;5;241m0\u001b[39m\n\u001b[1;32m     24\u001b[0m \u001b[38;5;28;01mwhile\u001b[39;00m np\u001b[38;5;241m.\u001b[39mabs(closs) \u001b[38;5;241m>\u001b[39m \u001b[38;5;241m10\u001b[39m\u001b[38;5;241m*\u001b[39m\u001b[38;5;241m*\u001b[39m(\u001b[38;5;241m-\u001b[39m\u001b[38;5;241m3\u001b[39m):\n\u001b[0;32m---> 25\u001b[0m     eps, closs, lr_init_inside, iters \u001b[38;5;241m=\u001b[39m \u001b[43moptimization_loop_ADAM\u001b[49m\u001b[43m(\u001b[49m\u001b[43mx_axis\u001b[49m\u001b[43m,\u001b[49m\u001b[43m \u001b[49m\u001b[43meps_init_inside\u001b[49m\u001b[43m,\u001b[49m\u001b[43m \u001b[49m\u001b[43mlr_init_inside\u001b[49m\u001b[43m)\u001b[49m\n\u001b[1;32m     26\u001b[0m     total_iter \u001b[38;5;241m+\u001b[39m\u001b[38;5;241m=\u001b[39m iters\n\u001b[1;32m     29\u001b[0m     \u001b[38;5;28;01mif\u001b[39;00m np\u001b[38;5;241m.\u001b[39mabs(closs) \u001b[38;5;241m<\u001b[39m \u001b[38;5;241m10\u001b[39m\u001b[38;5;241m*\u001b[39m\u001b[38;5;241m*\u001b[39m(\u001b[38;5;241m-\u001b[39m\u001b[38;5;241m3\u001b[39m):\n",
      "File \u001b[0;32m~/RBF-shape-parameter-NN/dataset/../common/optimisation.py:96\u001b[0m, in \u001b[0;36moptimization_loop_ADAM\u001b[0;34m(x_axis, eps_init, lr_init)\u001b[0m\n\u001b[1;32m     94\u001b[0m \u001b[38;5;28;01mwhile\u001b[39;00m np\u001b[38;5;241m.\u001b[39mabs(current_loss) \u001b[38;5;241m>\u001b[39m \u001b[38;5;241m10\u001b[39m\u001b[38;5;241m*\u001b[39m\u001b[38;5;241m*\u001b[39m(\u001b[38;5;241m-\u001b[39m\u001b[38;5;241m4\u001b[39m):\n\u001b[1;32m     95\u001b[0m     eps, update, m0, v0 \u001b[38;5;241m=\u001b[39m compute_parameter_update_ADAM(eps, x_axis, alpha, b1, b2, m0, v0, t)\n\u001b[0;32m---> 96\u001b[0m     current_loss \u001b[38;5;241m=\u001b[39m \u001b[43mcompute_loss\u001b[49m\u001b[43m(\u001b[49m\u001b[43meps\u001b[49m\u001b[43m,\u001b[49m\u001b[43mx_axis\u001b[49m\u001b[43m)\u001b[49m\n\u001b[1;32m     97\u001b[0m     updates\u001b[38;5;241m.\u001b[39mappend(update)\n\u001b[1;32m     98\u001b[0m     t \u001b[38;5;241m=\u001b[39m t\u001b[38;5;241m+\u001b[39m\u001b[38;5;241m1\u001b[39m\n",
      "File \u001b[0;32m~/RBF-shape-parameter-NN/dataset/../common/optimisation.py:31\u001b[0m, in \u001b[0;36mcompute_loss\u001b[0;34m(eps, x_axis, upper_cond, lower_cond)\u001b[0m\n\u001b[1;32m     30\u001b[0m \u001b[38;5;28;01mdef\u001b[39;00m \u001b[38;5;21mcompute_loss\u001b[39m(eps,x_axis,upper_cond \u001b[38;5;241m=\u001b[39m \u001b[38;5;241m11.5\u001b[39m, lower_cond \u001b[38;5;241m=\u001b[39m \u001b[38;5;241m11\u001b[39m):\n\u001b[0;32m---> 31\u001b[0m     A \u001b[38;5;241m=\u001b[39m \u001b[43mget_int_matrix\u001b[49m\u001b[43m(\u001b[49m\u001b[43mx_axis\u001b[49m\u001b[43m,\u001b[49m\u001b[43meps\u001b[49m\u001b[43m)\u001b[49m\n\u001b[1;32m     32\u001b[0m     cond \u001b[38;5;241m=\u001b[39m np\u001b[38;5;241m.\u001b[39mlinalg\u001b[38;5;241m.\u001b[39mcond(A,\u001b[38;5;124m'\u001b[39m\u001b[38;5;124mfro\u001b[39m\u001b[38;5;124m'\u001b[39m)\n\u001b[1;32m     33\u001b[0m     logcond \u001b[38;5;241m=\u001b[39m np\u001b[38;5;241m.\u001b[39mlog10(cond)\n",
      "File \u001b[0;32m~/RBF-shape-parameter-NN/dataset/../common/rbf_tools.py:24\u001b[0m, in \u001b[0;36mget_int_matrix\u001b[0;34m(x_axis, epsilon)\u001b[0m\n\u001b[1;32m     22\u001b[0m \u001b[38;5;28;01mfor\u001b[39;00m i \u001b[38;5;129;01min\u001b[39;00m \u001b[38;5;28mrange\u001b[39m(x_axis\u001b[38;5;241m.\u001b[39mshape[\u001b[38;5;241m0\u001b[39m]):\n\u001b[1;32m     23\u001b[0m     \u001b[38;5;28;01mfor\u001b[39;00m j \u001b[38;5;129;01min\u001b[39;00m \u001b[38;5;28mrange\u001b[39m(x_axis\u001b[38;5;241m.\u001b[39mshape[\u001b[38;5;241m0\u001b[39m]):\n\u001b[0;32m---> 24\u001b[0m         B[i,j] \u001b[38;5;241m=\u001b[39m (\u001b[38;5;241m1.0\u001b[39m \u001b[38;5;241m+\u001b[39m (epsilon\u001b[38;5;241m*\u001b[39m\u001b[43mnp\u001b[49m\u001b[38;5;241;43m.\u001b[39;49m\u001b[43mlinalg\u001b[49m\u001b[38;5;241;43m.\u001b[39;49m\u001b[43mnorm\u001b[49m\u001b[43m(\u001b[49m\u001b[43mx_axis\u001b[49m\u001b[43m[\u001b[49m\u001b[43mi\u001b[49m\u001b[43m]\u001b[49m\u001b[38;5;241;43m-\u001b[39;49m\u001b[43mx_axis\u001b[49m\u001b[43m[\u001b[49m\u001b[43mj\u001b[49m\u001b[43m]\u001b[49m\u001b[43m)\u001b[49m)\u001b[38;5;241m*\u001b[39m\u001b[38;5;241m*\u001b[39m\u001b[38;5;241m2\u001b[39m)\u001b[38;5;241m*\u001b[39m\u001b[38;5;241m*\u001b[39m(\u001b[38;5;241m-\u001b[39m\u001b[38;5;241m0.5\u001b[39m)\n\u001b[1;32m     26\u001b[0m B[\u001b[38;5;241m-\u001b[39m\u001b[38;5;241m1\u001b[39m,:]\u001b[38;5;241m=\u001b[39m\u001b[38;5;241m1.0\u001b[39m\n\u001b[1;32m     27\u001b[0m B[:,\u001b[38;5;241m-\u001b[39m\u001b[38;5;241m1\u001b[39m]\u001b[38;5;241m=\u001b[39m\u001b[38;5;241m1.0\u001b[39m\n",
      "File \u001b[0;32m<__array_function__ internals>:180\u001b[0m, in \u001b[0;36mnorm\u001b[0;34m(*args, **kwargs)\u001b[0m\n",
      "File \u001b[0;32m~/.conda/envs/rbf/lib/python3.10/site-packages/numpy/linalg/linalg.py:2516\u001b[0m, in \u001b[0;36mnorm\u001b[0;34m(x, ord, axis, keepdims)\u001b[0m\n\u001b[1;32m   2514\u001b[0m     sqnorm \u001b[38;5;241m=\u001b[39m dot(x\u001b[38;5;241m.\u001b[39mreal, x\u001b[38;5;241m.\u001b[39mreal) \u001b[38;5;241m+\u001b[39m dot(x\u001b[38;5;241m.\u001b[39mimag, x\u001b[38;5;241m.\u001b[39mimag)\n\u001b[1;32m   2515\u001b[0m \u001b[38;5;28;01melse\u001b[39;00m:\n\u001b[0;32m-> 2516\u001b[0m     sqnorm \u001b[38;5;241m=\u001b[39m \u001b[43mdot\u001b[49m\u001b[43m(\u001b[49m\u001b[43mx\u001b[49m\u001b[43m,\u001b[49m\u001b[43m \u001b[49m\u001b[43mx\u001b[49m\u001b[43m)\u001b[49m\n\u001b[1;32m   2517\u001b[0m ret \u001b[38;5;241m=\u001b[39m sqrt(sqnorm)\n\u001b[1;32m   2518\u001b[0m \u001b[38;5;28;01mif\u001b[39;00m keepdims:\n",
      "File \u001b[0;32m<__array_function__ internals>:180\u001b[0m, in \u001b[0;36mdot\u001b[0;34m(*args, **kwargs)\u001b[0m\n",
      "\u001b[0;31mKeyboardInterrupt\u001b[0m: "
     ]
    }
   ],
   "source": [
    "# 1-d\n",
    "data_per_sample=700\n",
    "ratio_of_points=1\n",
    "n_dim=1\n",
    "lrs=[0.1,0.1,0.1]\n",
    "bs=[0.01,0.1,1.0]\n",
    "N=10\n",
    "n=10\n",
    "freq = 2/0.1\n",
    "u_exacts = [lambda x: np.exp(np.sin(np.pi*x)), lambda x: 1/(1+16*(x**2)), lambda x: np.cos(freq*np.pi*x) ]\n",
    "dataset = generate_dataset(data_per_sample,ratio_of_points,n_dim,lrs,bs,u_exacts,N,n=n)\n",
    "pickle.dump(dataset, open(\"sort_1d_11_11.5_10.pkl\",'wb'))\n",
    "print(dataset)"
   ]
  },
  {
   "cell_type": "code",
   "execution_count": 6,
   "id": "e20a04f4-8f3a-4dd4-b3b2-648ec139f8c6",
   "metadata": {},
   "outputs": [
    {
     "name": "stdout",
     "output_type": "stream",
     "text": [
      "Dimension: 2\n",
      "sucess\n",
      "sucess\n",
      "sucess\n",
      "sucess\n",
      "sucess\n",
      "sucess\n",
      "sucess\n",
      "sucess\n",
      "sucess\n",
      "sucess\n"
     ]
    },
    {
     "ename": "KeyboardInterrupt",
     "evalue": "",
     "output_type": "error",
     "traceback": [
      "\u001b[0;31m---------------------------------------------------------------------------\u001b[0m",
      "\u001b[0;31mKeyboardInterrupt\u001b[0m                         Traceback (most recent call last)",
      "Cell \u001b[0;32mIn[6], line 13\u001b[0m\n\u001b[1;32m      9\u001b[0m freq \u001b[38;5;241m=\u001b[39m \u001b[38;5;241m2\u001b[39m\u001b[38;5;241m/\u001b[39m\u001b[38;5;241m0.1\u001b[39m\n\u001b[1;32m     10\u001b[0m u_exacts \u001b[38;5;241m=\u001b[39m  [\u001b[38;5;28;01mlambda\u001b[39;00m x,y,alpha\u001b[38;5;241m=\u001b[39m\u001b[38;5;241m0.1\u001b[39m: (\u001b[38;5;241m1\u001b[39m\u001b[38;5;241m+\u001b[39mnp\u001b[38;5;241m.\u001b[39mexp(\u001b[38;5;241m-\u001b[39m\u001b[38;5;241m1.0\u001b[39m\u001b[38;5;241m/\u001b[39malpha)\u001b[38;5;241m-\u001b[39mnp\u001b[38;5;241m.\u001b[39mexp(\u001b[38;5;241m-\u001b[39mx\u001b[38;5;241m/\u001b[39malpha)\u001b[38;5;241m-\u001b[39mnp\u001b[38;5;241m.\u001b[39mexp((x\u001b[38;5;241m-\u001b[39m\u001b[38;5;241m1.0\u001b[39m)\u001b[38;5;241m/\u001b[39malpha))\u001b[38;5;241m*\u001b[39m(\u001b[38;5;241m1\u001b[39m\u001b[38;5;241m+\u001b[39mnp\u001b[38;5;241m.\u001b[39mexp(\u001b[38;5;241m-\u001b[39m\u001b[38;5;241m1.0\u001b[39m\u001b[38;5;241m/\u001b[39malpha)\u001b[38;5;241m-\u001b[39mnp\u001b[38;5;241m.\u001b[39mexp(\u001b[38;5;241m-\u001b[39my\u001b[38;5;241m/\u001b[39malpha)\u001b[38;5;241m-\u001b[39mnp\u001b[38;5;241m.\u001b[39mexp((y\u001b[38;5;241m-\u001b[39m\u001b[38;5;241m1.0\u001b[39m)\u001b[38;5;241m/\u001b[39malpha)),\\\n\u001b[1;32m     11\u001b[0m              \u001b[38;5;28;01mlambda\u001b[39;00m x,y,alpha\u001b[38;5;241m=\u001b[39m\u001b[38;5;241m1.0\u001b[39m: (\u001b[38;5;241m1\u001b[39m\u001b[38;5;241m+\u001b[39mnp\u001b[38;5;241m.\u001b[39mexp(\u001b[38;5;241m-\u001b[39m\u001b[38;5;241m1.0\u001b[39m\u001b[38;5;241m/\u001b[39malpha)\u001b[38;5;241m-\u001b[39mnp\u001b[38;5;241m.\u001b[39mexp(\u001b[38;5;241m-\u001b[39mx\u001b[38;5;241m/\u001b[39malpha)\u001b[38;5;241m-\u001b[39mnp\u001b[38;5;241m.\u001b[39mexp((x\u001b[38;5;241m-\u001b[39m\u001b[38;5;241m1.0\u001b[39m)\u001b[38;5;241m/\u001b[39malpha))\u001b[38;5;241m*\u001b[39m(\u001b[38;5;241m1\u001b[39m\u001b[38;5;241m+\u001b[39mnp\u001b[38;5;241m.\u001b[39mexp(\u001b[38;5;241m-\u001b[39m\u001b[38;5;241m1.0\u001b[39m\u001b[38;5;241m/\u001b[39malpha)\u001b[38;5;241m-\u001b[39mnp\u001b[38;5;241m.\u001b[39mexp(\u001b[38;5;241m-\u001b[39my\u001b[38;5;241m/\u001b[39malpha)\u001b[38;5;241m-\u001b[39mnp\u001b[38;5;241m.\u001b[39mexp((y\u001b[38;5;241m-\u001b[39m\u001b[38;5;241m1.0\u001b[39m)\u001b[38;5;241m/\u001b[39malpha)),\\\n\u001b[1;32m     12\u001b[0m              \u001b[38;5;28;01mlambda\u001b[39;00m x,y: \u001b[38;5;241m0.75\u001b[39m\u001b[38;5;241m*\u001b[39mnp\u001b[38;5;241m.\u001b[39mexp(\u001b[38;5;241m-\u001b[39m(\u001b[38;5;241m9.0\u001b[39m\u001b[38;5;241m*\u001b[39mx\u001b[38;5;241m-\u001b[39m\u001b[38;5;241m2.0\u001b[39m)\u001b[38;5;241m*\u001b[39m\u001b[38;5;241m*\u001b[39m\u001b[38;5;241m2\u001b[39m\u001b[38;5;241m/\u001b[39m\u001b[38;5;241m4.0\u001b[39m\u001b[38;5;241m-\u001b[39m(\u001b[38;5;241m9.0\u001b[39m\u001b[38;5;241m*\u001b[39my\u001b[38;5;241m-\u001b[39m\u001b[38;5;241m2.0\u001b[39m)\u001b[38;5;241m*\u001b[39m\u001b[38;5;241m*\u001b[39m\u001b[38;5;241m2\u001b[39m\u001b[38;5;241m/\u001b[39m\u001b[38;5;241m4.0\u001b[39m)\u001b[38;5;241m+\u001b[39m\u001b[38;5;241m0.75\u001b[39m\u001b[38;5;241m*\u001b[39mnp\u001b[38;5;241m.\u001b[39mexp(\u001b[38;5;241m-\u001b[39m(\u001b[38;5;241m9.0\u001b[39m\u001b[38;5;241m*\u001b[39mx\u001b[38;5;241m+\u001b[39m\u001b[38;5;241m1.0\u001b[39m)\u001b[38;5;241m*\u001b[39m\u001b[38;5;241m*\u001b[39m\u001b[38;5;241m2\u001b[39m\u001b[38;5;241m/\u001b[39m\u001b[38;5;241m49.0\u001b[39m\u001b[38;5;241m-\u001b[39m(\u001b[38;5;241m9.0\u001b[39m\u001b[38;5;241m*\u001b[39my\u001b[38;5;241m+\u001b[39m\u001b[38;5;241m1.0\u001b[39m)\u001b[38;5;241m*\u001b[39m\u001b[38;5;241m*\u001b[39m\u001b[38;5;241m2\u001b[39m\u001b[38;5;241m/\u001b[39m\u001b[38;5;241m10.0\u001b[39m)\u001b[38;5;241m+\u001b[39m\u001b[38;5;241m0.5\u001b[39m\u001b[38;5;241m*\u001b[39mnp\u001b[38;5;241m.\u001b[39mexp(\u001b[38;5;241m-\u001b[39m(\u001b[38;5;241m9.0\u001b[39m\u001b[38;5;241m*\u001b[39mx\u001b[38;5;241m-\u001b[39m\u001b[38;5;241m7.0\u001b[39m)\u001b[38;5;241m*\u001b[39m\u001b[38;5;241m*\u001b[39m\u001b[38;5;241m2\u001b[39m\u001b[38;5;241m/\u001b[39m\u001b[38;5;241m4.0\u001b[39m\u001b[38;5;241m-\u001b[39m(\u001b[38;5;241m9.0\u001b[39m\u001b[38;5;241m*\u001b[39my\u001b[38;5;241m-\u001b[39m\u001b[38;5;241m3.0\u001b[39m)\u001b[38;5;241m*\u001b[39m\u001b[38;5;241m*\u001b[39m\u001b[38;5;241m2\u001b[39m\u001b[38;5;241m/\u001b[39m\u001b[38;5;241m4.0\u001b[39m)\u001b[38;5;241m-\u001b[39m\u001b[38;5;241m0.2\u001b[39m\u001b[38;5;241m*\u001b[39mnp\u001b[38;5;241m.\u001b[39mexp(\u001b[38;5;241m-\u001b[39m(\u001b[38;5;241m9.0\u001b[39m\u001b[38;5;241m*\u001b[39mx\u001b[38;5;241m-\u001b[39m\u001b[38;5;241m4.0\u001b[39m)\u001b[38;5;241m*\u001b[39m\u001b[38;5;241m*\u001b[39m\u001b[38;5;241m2\u001b[39m\u001b[38;5;241m-\u001b[39m(\u001b[38;5;241m9.0\u001b[39m\u001b[38;5;241m*\u001b[39my\u001b[38;5;241m-\u001b[39m\u001b[38;5;241m7.0\u001b[39m)\u001b[38;5;241m*\u001b[39m\u001b[38;5;241m*\u001b[39m\u001b[38;5;241m2\u001b[39m)]\n\u001b[0;32m---> 13\u001b[0m dataset \u001b[38;5;241m=\u001b[39m \u001b[43mgenerate_dataset\u001b[49m\u001b[43m(\u001b[49m\u001b[43mdata_per_sample\u001b[49m\u001b[43m,\u001b[49m\u001b[43mratio_of_points\u001b[49m\u001b[43m,\u001b[49m\u001b[43mn_dim\u001b[49m\u001b[43m,\u001b[49m\u001b[43mlrs\u001b[49m\u001b[43m,\u001b[49m\u001b[43mbs\u001b[49m\u001b[43m,\u001b[49m\u001b[43mu_exacts\u001b[49m\u001b[43m,\u001b[49m\u001b[43mN\u001b[49m\u001b[43m,\u001b[49m\u001b[43mn\u001b[49m\u001b[38;5;241;43m=\u001b[39;49m\u001b[43mn\u001b[49m\u001b[43m)\u001b[49m\n\u001b[1;32m     14\u001b[0m pickle\u001b[38;5;241m.\u001b[39mdump(dataset, \u001b[38;5;28mopen\u001b[39m(\u001b[38;5;124m\"\u001b[39m\u001b[38;5;124msort_2d_11_11.5_10.pkl\u001b[39m\u001b[38;5;124m\"\u001b[39m,\u001b[38;5;124m'\u001b[39m\u001b[38;5;124mwb\u001b[39m\u001b[38;5;124m'\u001b[39m))\n\u001b[1;32m     15\u001b[0m \u001b[38;5;28mprint\u001b[39m(dataset)\n",
      "Cell \u001b[0;32mIn[5], line 33\u001b[0m, in \u001b[0;36mgenerate_dataset\u001b[0;34m(data_per_sample, ratio_of_points, n_dim, lrs, bs, u_exacts, N, n)\u001b[0m\n\u001b[1;32m     31\u001b[0m L \u001b[38;5;241m=\u001b[39m  get_int_matrix(x_local,eps_init)\n\u001b[1;32m     32\u001b[0m cond_init \u001b[38;5;241m=\u001b[39m np\u001b[38;5;241m.\u001b[39mlinalg\u001b[38;5;241m.\u001b[39mcond(L,\u001b[38;5;124m'\u001b[39m\u001b[38;5;124mfro\u001b[39m\u001b[38;5;124m'\u001b[39m)\n\u001b[0;32m---> 33\u001b[0m eps_final,nunsuccessful\u001b[38;5;241m=\u001b[39m\u001b[43mcalculate_shape\u001b[49m\u001b[43m(\u001b[49m\u001b[43mx_local\u001b[49m\u001b[43m,\u001b[49m\u001b[43mlr_init\u001b[49m\u001b[43m)\u001b[49m\n\u001b[1;32m     35\u001b[0m \u001b[38;5;28;01mif\u001b[39;00m nunsuccessful\u001b[38;5;241m==\u001b[39m\u001b[38;5;241m0\u001b[39m:\n\u001b[1;32m     36\u001b[0m     L \u001b[38;5;241m=\u001b[39m  get_int_matrix(x_local,eps_final)\n",
      "File \u001b[0;32m~/RBF-shape-parameter-NN/dataset/../common/final.py:25\u001b[0m, in \u001b[0;36mcalculate_shape\u001b[0;34m(x_axis, lr_init)\u001b[0m\n\u001b[1;32m     23\u001b[0m nunsuccessful \u001b[38;5;241m=\u001b[39m \u001b[38;5;241m0\u001b[39m\n\u001b[1;32m     24\u001b[0m \u001b[38;5;28;01mwhile\u001b[39;00m np\u001b[38;5;241m.\u001b[39mabs(closs) \u001b[38;5;241m>\u001b[39m \u001b[38;5;241m10\u001b[39m\u001b[38;5;241m*\u001b[39m\u001b[38;5;241m*\u001b[39m(\u001b[38;5;241m-\u001b[39m\u001b[38;5;241m3\u001b[39m):\n\u001b[0;32m---> 25\u001b[0m     eps, closs, lr_init_inside, iters \u001b[38;5;241m=\u001b[39m \u001b[43moptimization_loop_ADAM\u001b[49m\u001b[43m(\u001b[49m\u001b[43mx_axis\u001b[49m\u001b[43m,\u001b[49m\u001b[43m \u001b[49m\u001b[43meps_init_inside\u001b[49m\u001b[43m,\u001b[49m\u001b[43m \u001b[49m\u001b[43mlr_init_inside\u001b[49m\u001b[43m)\u001b[49m\n\u001b[1;32m     26\u001b[0m     total_iter \u001b[38;5;241m+\u001b[39m\u001b[38;5;241m=\u001b[39m iters\n\u001b[1;32m     29\u001b[0m     \u001b[38;5;28;01mif\u001b[39;00m np\u001b[38;5;241m.\u001b[39mabs(closs) \u001b[38;5;241m<\u001b[39m \u001b[38;5;241m10\u001b[39m\u001b[38;5;241m*\u001b[39m\u001b[38;5;241m*\u001b[39m(\u001b[38;5;241m-\u001b[39m\u001b[38;5;241m3\u001b[39m):\n",
      "File \u001b[0;32m~/RBF-shape-parameter-NN/dataset/../common/optimisation.py:96\u001b[0m, in \u001b[0;36moptimization_loop_ADAM\u001b[0;34m(x_axis, eps_init, lr_init)\u001b[0m\n\u001b[1;32m     94\u001b[0m \u001b[38;5;28;01mwhile\u001b[39;00m np\u001b[38;5;241m.\u001b[39mabs(current_loss) \u001b[38;5;241m>\u001b[39m \u001b[38;5;241m10\u001b[39m\u001b[38;5;241m*\u001b[39m\u001b[38;5;241m*\u001b[39m(\u001b[38;5;241m-\u001b[39m\u001b[38;5;241m4\u001b[39m):\n\u001b[1;32m     95\u001b[0m     eps, update, m0, v0 \u001b[38;5;241m=\u001b[39m compute_parameter_update_ADAM(eps, x_axis, alpha, b1, b2, m0, v0, t)\n\u001b[0;32m---> 96\u001b[0m     current_loss \u001b[38;5;241m=\u001b[39m \u001b[43mcompute_loss\u001b[49m\u001b[43m(\u001b[49m\u001b[43meps\u001b[49m\u001b[43m,\u001b[49m\u001b[43mx_axis\u001b[49m\u001b[43m)\u001b[49m\n\u001b[1;32m     97\u001b[0m     updates\u001b[38;5;241m.\u001b[39mappend(update)\n\u001b[1;32m     98\u001b[0m     t \u001b[38;5;241m=\u001b[39m t\u001b[38;5;241m+\u001b[39m\u001b[38;5;241m1\u001b[39m\n",
      "File \u001b[0;32m~/RBF-shape-parameter-NN/dataset/../common/optimisation.py:31\u001b[0m, in \u001b[0;36mcompute_loss\u001b[0;34m(eps, x_axis, upper_cond, lower_cond)\u001b[0m\n\u001b[1;32m     30\u001b[0m \u001b[38;5;28;01mdef\u001b[39;00m \u001b[38;5;21mcompute_loss\u001b[39m(eps,x_axis,upper_cond \u001b[38;5;241m=\u001b[39m \u001b[38;5;241m11.5\u001b[39m, lower_cond \u001b[38;5;241m=\u001b[39m \u001b[38;5;241m11\u001b[39m):\n\u001b[0;32m---> 31\u001b[0m     A \u001b[38;5;241m=\u001b[39m \u001b[43mget_int_matrix\u001b[49m\u001b[43m(\u001b[49m\u001b[43mx_axis\u001b[49m\u001b[43m,\u001b[49m\u001b[43meps\u001b[49m\u001b[43m)\u001b[49m\n\u001b[1;32m     32\u001b[0m     cond \u001b[38;5;241m=\u001b[39m np\u001b[38;5;241m.\u001b[39mlinalg\u001b[38;5;241m.\u001b[39mcond(A,\u001b[38;5;124m'\u001b[39m\u001b[38;5;124mfro\u001b[39m\u001b[38;5;124m'\u001b[39m)\n\u001b[1;32m     33\u001b[0m     logcond \u001b[38;5;241m=\u001b[39m np\u001b[38;5;241m.\u001b[39mlog10(cond)\n",
      "File \u001b[0;32m~/RBF-shape-parameter-NN/dataset/../common/rbf_tools.py:24\u001b[0m, in \u001b[0;36mget_int_matrix\u001b[0;34m(x_axis, epsilon)\u001b[0m\n\u001b[1;32m     22\u001b[0m \u001b[38;5;28;01mfor\u001b[39;00m i \u001b[38;5;129;01min\u001b[39;00m \u001b[38;5;28mrange\u001b[39m(x_axis\u001b[38;5;241m.\u001b[39mshape[\u001b[38;5;241m0\u001b[39m]):\n\u001b[1;32m     23\u001b[0m     \u001b[38;5;28;01mfor\u001b[39;00m j \u001b[38;5;129;01min\u001b[39;00m \u001b[38;5;28mrange\u001b[39m(x_axis\u001b[38;5;241m.\u001b[39mshape[\u001b[38;5;241m0\u001b[39m]):\n\u001b[0;32m---> 24\u001b[0m         B[i,j] \u001b[38;5;241m=\u001b[39m (\u001b[38;5;241m1.0\u001b[39m \u001b[38;5;241m+\u001b[39m (epsilon\u001b[38;5;241m*\u001b[39m\u001b[43mnp\u001b[49m\u001b[38;5;241;43m.\u001b[39;49m\u001b[43mlinalg\u001b[49m\u001b[38;5;241;43m.\u001b[39;49m\u001b[43mnorm\u001b[49m\u001b[43m(\u001b[49m\u001b[43mx_axis\u001b[49m\u001b[43m[\u001b[49m\u001b[43mi\u001b[49m\u001b[43m]\u001b[49m\u001b[38;5;241;43m-\u001b[39;49m\u001b[43mx_axis\u001b[49m\u001b[43m[\u001b[49m\u001b[43mj\u001b[49m\u001b[43m]\u001b[49m\u001b[43m)\u001b[49m)\u001b[38;5;241m*\u001b[39m\u001b[38;5;241m*\u001b[39m\u001b[38;5;241m2\u001b[39m)\u001b[38;5;241m*\u001b[39m\u001b[38;5;241m*\u001b[39m(\u001b[38;5;241m-\u001b[39m\u001b[38;5;241m0.5\u001b[39m)\n\u001b[1;32m     26\u001b[0m B[\u001b[38;5;241m-\u001b[39m\u001b[38;5;241m1\u001b[39m,:]\u001b[38;5;241m=\u001b[39m\u001b[38;5;241m1.0\u001b[39m\n\u001b[1;32m     27\u001b[0m B[:,\u001b[38;5;241m-\u001b[39m\u001b[38;5;241m1\u001b[39m]\u001b[38;5;241m=\u001b[39m\u001b[38;5;241m1.0\u001b[39m\n",
      "File \u001b[0;32m<__array_function__ internals>:180\u001b[0m, in \u001b[0;36mnorm\u001b[0;34m(*args, **kwargs)\u001b[0m\n",
      "File \u001b[0;32m~/.conda/envs/rbf/lib/python3.10/site-packages/numpy/linalg/linalg.py:2512\u001b[0m, in \u001b[0;36mnorm\u001b[0;34m(x, ord, axis, keepdims)\u001b[0m\n\u001b[1;32m   2507\u001b[0m ndim \u001b[38;5;241m=\u001b[39m x\u001b[38;5;241m.\u001b[39mndim\n\u001b[1;32m   2508\u001b[0m \u001b[38;5;28;01mif\u001b[39;00m ((\u001b[38;5;28mord\u001b[39m \u001b[38;5;129;01mis\u001b[39;00m \u001b[38;5;28;01mNone\u001b[39;00m) \u001b[38;5;129;01mor\u001b[39;00m\n\u001b[1;32m   2509\u001b[0m     (\u001b[38;5;28mord\u001b[39m \u001b[38;5;129;01min\u001b[39;00m (\u001b[38;5;124m'\u001b[39m\u001b[38;5;124mf\u001b[39m\u001b[38;5;124m'\u001b[39m, \u001b[38;5;124m'\u001b[39m\u001b[38;5;124mfro\u001b[39m\u001b[38;5;124m'\u001b[39m) \u001b[38;5;129;01mand\u001b[39;00m ndim \u001b[38;5;241m==\u001b[39m \u001b[38;5;241m2\u001b[39m) \u001b[38;5;129;01mor\u001b[39;00m\n\u001b[1;32m   2510\u001b[0m     (\u001b[38;5;28mord\u001b[39m \u001b[38;5;241m==\u001b[39m \u001b[38;5;241m2\u001b[39m \u001b[38;5;129;01mand\u001b[39;00m ndim \u001b[38;5;241m==\u001b[39m \u001b[38;5;241m1\u001b[39m)):\n\u001b[0;32m-> 2512\u001b[0m     x \u001b[38;5;241m=\u001b[39m \u001b[43mx\u001b[49m\u001b[38;5;241;43m.\u001b[39;49m\u001b[43mravel\u001b[49m\u001b[43m(\u001b[49m\u001b[43morder\u001b[49m\u001b[38;5;241;43m=\u001b[39;49m\u001b[38;5;124;43m'\u001b[39;49m\u001b[38;5;124;43mK\u001b[39;49m\u001b[38;5;124;43m'\u001b[39;49m\u001b[43m)\u001b[49m\n\u001b[1;32m   2513\u001b[0m     \u001b[38;5;28;01mif\u001b[39;00m isComplexType(x\u001b[38;5;241m.\u001b[39mdtype\u001b[38;5;241m.\u001b[39mtype):\n\u001b[1;32m   2514\u001b[0m         sqnorm \u001b[38;5;241m=\u001b[39m dot(x\u001b[38;5;241m.\u001b[39mreal, x\u001b[38;5;241m.\u001b[39mreal) \u001b[38;5;241m+\u001b[39m dot(x\u001b[38;5;241m.\u001b[39mimag, x\u001b[38;5;241m.\u001b[39mimag)\n",
      "\u001b[0;31mKeyboardInterrupt\u001b[0m: "
     ]
    }
   ],
   "source": [
    "# 2-d\n",
    "data_per_sample=50\n",
    "ratio_of_points=20\n",
    "n_dim=2\n",
    "lrs=[0.1,0.1,0.1,0.1]\n",
    "bs=[0.001,0.01,0.1,1.0]\n",
    "N=20\n",
    "n=10\n",
    "freq = 2/0.1\n",
    "u_exacts =  [lambda x,y,alpha=0.1: (1+np.exp(-1.0/alpha)-np.exp(-x/alpha)-np.exp((x-1.0)/alpha))*(1+np.exp(-1.0/alpha)-np.exp(-y/alpha)-np.exp((y-1.0)/alpha)),\\\n",
    "             lambda x,y,alpha=1.0: (1+np.exp(-1.0/alpha)-np.exp(-x/alpha)-np.exp((x-1.0)/alpha))*(1+np.exp(-1.0/alpha)-np.exp(-y/alpha)-np.exp((y-1.0)/alpha)),\\\n",
    "             lambda x,y: 0.75*np.exp(-(9.0*x-2.0)**2/4.0-(9.0*y-2.0)**2/4.0)+0.75*np.exp(-(9.0*x+1.0)**2/49.0-(9.0*y+1.0)**2/10.0)+0.5*np.exp(-(9.0*x-7.0)**2/4.0-(9.0*y-3.0)**2/4.0)-0.2*np.exp(-(9.0*x-4.0)**2-(9.0*y-7.0)**2)]\n",
    "dataset = generate_dataset(data_per_sample,ratio_of_points,n_dim,lrs,bs,u_exacts,N,n=n)\n",
    "pickle.dump(dataset, open(\"sort_2d_11_11.5_10.pkl\",'wb'))\n",
    "print(dataset)    "
   ]
  }
 ],
 "metadata": {
  "kernelspec": {
   "display_name": "RBF",
   "language": "python",
   "name": "rbf"
  },
  "language_info": {
   "codemirror_mode": {
    "name": "ipython",
    "version": 3
   },
   "file_extension": ".py",
   "mimetype": "text/x-python",
   "name": "python",
   "nbconvert_exporter": "python",
   "pygments_lexer": "ipython3",
   "version": "3.10.16"
  }
 },
 "nbformat": 4,
 "nbformat_minor": 5
}
